{
 "cells": [
  {
   "cell_type": "code",
   "execution_count": 3,
   "id": "dba5ddde",
   "metadata": {},
   "outputs": [],
   "source": [
    "import os\n",
    "from datetime import datetime, timedelta\n",
    "\n",
    "from binance.client import Client\n",
    "from dotenv import load_dotenv\n",
    "\n",
    "load_dotenv()\n",
    "\n",
    "# ------- Binance client -------\n",
    "API_KEY = os.getenv(\"BINANCE_API_KEY\", None)\n",
    "API_SECRET = os.getenv(\"BINANCE_SECRET_KEY\", None)"
   ]
  },
  {
   "cell_type": "code",
   "execution_count": 4,
   "id": "7ab83b7e",
   "metadata": {},
   "outputs": [
    {
     "name": "stdout",
     "output_type": "stream",
     "text": [
      "kj9nj7K7nD9UhXVjSjXO9UEw93HXdyV4XBiYnbwdH37SAdpbvWz0Sru8ml19j5io EuvncmZ8GoHXcTjVlDYk25Qd18YmIgg8UNtn0H0MRUXIY0VefK4PMtx0qXzOwuoX\n"
     ]
    }
   ],
   "source": [
    "print(API_KEY, API_SECRET)\n",
    "client = Client(API_KEY, API_SECRET) if API_KEY and API_SECRET else Client()"
   ]
  },
  {
   "cell_type": "code",
   "execution_count": 6,
   "id": "dcf00cd7",
   "metadata": {},
   "outputs": [
    {
     "data": {
      "text/plain": [
       "'kj9nj7K7nD9UhXVjSjXO9UEw93HXdyV4XBiYnbwdH37SAdpbvWz0Sru8ml19j5io'"
      ]
     },
     "execution_count": 6,
     "metadata": {},
     "output_type": "execute_result"
    }
   ],
   "source": [
    "client.API_KEY"
   ]
  },
  {
   "cell_type": "code",
   "execution_count": null,
   "id": "23696180",
   "metadata": {},
   "outputs": [],
   "source": []
  },
  {
   "cell_type": "code",
   "execution_count": null,
   "id": "fff4f9a4",
   "metadata": {},
   "outputs": [],
   "source": []
  },
  {
   "cell_type": "code",
   "execution_count": null,
   "id": "bf0e6981",
   "metadata": {},
   "outputs": [],
   "source": [
    "end_time = datetime.now()\n",
    "start_time = end_time - timedelta(days=30)\n",
    "cur_start = start_time\n",
    "cur_end = min(cur_start + timedelta(days=7), end_time)\n",
    "\n",
    "data = client.get_klines(symbol='BTCUSDT', interval=Client.KLINE_INTERVAL_1MINUTE,\n",
    "                                         startTime=int(cur_start.timestamp()*1000),\n",
    "                                         endTime=int(cur_end.timestamp()*1000),\n",
    "                                         limit=1000)"
   ]
  },
  {
   "cell_type": "code",
   "execution_count": 39,
   "id": "5052f706",
   "metadata": {},
   "outputs": [
    {
     "data": {
      "text/plain": [
       "(datetime.datetime(2025, 7, 9, 19, 42, 31, 62164),\n",
       " datetime.datetime(2025, 7, 10, 19, 42, 31, 62164))"
      ]
     },
     "execution_count": 39,
     "metadata": {},
     "output_type": "execute_result"
    }
   ],
   "source": [
    "cur_start, cur_end"
   ]
  },
  {
   "cell_type": "code",
   "execution_count": 40,
   "id": "c308a296",
   "metadata": {},
   "outputs": [
    {
     "data": {
      "text/plain": [
       "datetime.datetime(2025, 7, 16, 19, 42, 31, 62164)"
      ]
     },
     "execution_count": 40,
     "metadata": {},
     "output_type": "execute_result"
    }
   ],
   "source": [
    "cur_start + timedelta(days=7)"
   ]
  },
  {
   "cell_type": "code",
   "execution_count": 31,
   "id": "7bf24938",
   "metadata": {},
   "outputs": [
    {
     "data": {
      "text/plain": [
       "(1754649136.877351, 1754735536.877351)"
      ]
     },
     "execution_count": 31,
     "metadata": {},
     "output_type": "execute_result"
    }
   ],
   "source": [
    "start_time.timestamp(), end_time.timestamp()"
   ]
  },
  {
   "cell_type": "code",
   "execution_count": 30,
   "id": "225db4ab",
   "metadata": {},
   "outputs": [
    {
     "data": {
      "text/plain": [
       "(1754649136.877351, 1754735536.877351)"
      ]
     },
     "execution_count": 30,
     "metadata": {},
     "output_type": "execute_result"
    }
   ],
   "source": [
    "cur_start.timestamp(), cur_end.timestamp()"
   ]
  },
  {
   "cell_type": "code",
   "execution_count": null,
   "id": "e80acd8e",
   "metadata": {},
   "outputs": [],
   "source": [
    "klines = [] "
   ]
  },
  {
   "cell_type": "code",
   "execution_count": 32,
   "id": "66c5cf50",
   "metadata": {},
   "outputs": [],
   "source": [
    "if not data:\n",
    "    cur_start = cur_end\n",
    "klines.extend(data)\n",
    "# next start: last fetched open time + 1 minute\n",
    "last_open = klines[-1][0] / 1000.0\n",
    "cur_start = datetime.utcfromtimestamp(last_open + 60)"
   ]
  },
  {
   "cell_type": "code",
   "execution_count": 33,
   "id": "9b450a1b",
   "metadata": {},
   "outputs": [
    {
     "data": {
      "text/plain": [
       "(1754735536.877351, 1754676780.0)"
      ]
     },
     "execution_count": 33,
     "metadata": {},
     "output_type": "execute_result"
    }
   ],
   "source": [
    "cur_end.timestamp(), cur_start.timestamp()"
   ]
  },
  {
   "cell_type": "code",
   "execution_count": 26,
   "id": "f01e2065",
   "metadata": {},
   "outputs": [
    {
     "data": {
      "text/plain": [
       "datetime.datetime(2025, 8, 9, 12, 9)"
      ]
     },
     "execution_count": 26,
     "metadata": {},
     "output_type": "execute_result"
    }
   ],
   "source": [
    "datetime.fromtimestamp(klines[-1][0] / 1000.0 + 60)"
   ]
  },
  {
   "cell_type": "code",
   "execution_count": 34,
   "id": "bdd9119e",
   "metadata": {},
   "outputs": [
    {
     "data": {
      "text/plain": [
       "1754735536.877351"
      ]
     },
     "execution_count": 34,
     "metadata": {},
     "output_type": "execute_result"
    }
   ],
   "source": [
    "cur_end.timestamp()"
   ]
  },
  {
   "cell_type": "code",
   "execution_count": 36,
   "id": "e252c997",
   "metadata": {},
   "outputs": [
    {
     "data": {
      "text/plain": [
       "datetime.datetime(2025, 8, 9, 3, 13)"
      ]
     },
     "execution_count": 36,
     "metadata": {},
     "output_type": "execute_result"
    }
   ],
   "source": [
    "cur_start"
   ]
  },
  {
   "cell_type": "code",
   "execution_count": null,
   "id": "a9a338a6",
   "metadata": {},
   "outputs": [],
   "source": []
  }
 ],
 "metadata": {
  "kernelspec": {
   "display_name": "coin-trading",
   "language": "python",
   "name": "python3"
  },
  "language_info": {
   "codemirror_mode": {
    "name": "ipython",
    "version": 3
   },
   "file_extension": ".py",
   "mimetype": "text/x-python",
   "name": "python",
   "nbconvert_exporter": "python",
   "pygments_lexer": "ipython3",
   "version": "3.11.12"
  }
 },
 "nbformat": 4,
 "nbformat_minor": 5
}
